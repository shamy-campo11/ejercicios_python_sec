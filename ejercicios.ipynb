{
  "nbformat": 4,
  "nbformat_minor": 0,
  "metadata": {
    "colab": {
      "provenance": [],
      "authorship_tag": "ABX9TyPW4//Jis3OpLCloo0sB+Jn",
      "include_colab_link": true
    },
    "kernelspec": {
      "name": "python3",
      "display_name": "Python 3"
    },
    "language_info": {
      "name": "python"
    }
  },
  "cells": [
    {
      "cell_type": "markdown",
      "metadata": {
        "id": "view-in-github",
        "colab_type": "text"
      },
      "source": [
        "<a href=\"https://colab.research.google.com/github/shamy-campo11/ejercicios_python_sec/blob/main/ejercicios.ipynb\" target=\"_parent\"><img src=\"https://colab.research.google.com/assets/colab-badge.svg\" alt=\"Open In Colab\"/></a>"
      ]
    },
    {
      "cell_type": "code",
      "execution_count": 1,
      "metadata": {
        "id": "o7jRBd_ZbLAK",
        "outputId": "3fdf3951-5601-4692-bd40-23d9ab9eae40",
        "colab": {
          "base_uri": "https://localhost:8080/"
        }
      },
      "outputs": [
        {
          "output_type": "stream",
          "name": "stdout",
          "text": [
            "escriba su nombre12\n",
            "Cual es tu edad12\n",
            "Hola, 12\n",
            "Tienes 12 años\n"
          ]
        }
      ],
      "source": [
        "name = input(\"escriba su nombre\")\n",
        "age = input(\"Cual es tu edad\")\n",
        "print(\"Hola,\", name)\n",
        "print(\"Tienes\", str(age), \"años\")"
      ]
    },
    {
      "cell_type": "markdown",
      "source": [
        "## Ejercicio 1: Area de un rectangulo\n",
        "Calcular el area de un rectangulo a partir de su base y altura\n",
        "\n",
        "A = b* h"
      ],
      "metadata": {
        "id": "e8uy1yVndvoT"
      }
    },
    {
      "cell_type": "code",
      "source": [
        "print(\"Programa para calcular el area de un rectangulo\")\n",
        "b = float(input(\"ingrese la base (m): \"))\n",
        "h =float(input(\"ingrese la altura (m): \"))\n",
        "A = b * h\n",
        "print(\"El area del rectangulo con base\", str(b), \"(m) y altura\", str(h), \"(m) es\", str(A), \"m2.\")\n"
      ],
      "metadata": {
        "id": "7_Am8t9DcP7I",
        "outputId": "ec96324a-2e74-4a5c-dbba-ba0248181c6f",
        "colab": {
          "base_uri": "https://localhost:8080/"
        }
      },
      "execution_count": 2,
      "outputs": [
        {
          "output_type": "stream",
          "name": "stdout",
          "text": [
            "Programa para calcular el area de un rectangulo\n",
            "ingrese la base (m): 12\n",
            "ingrese la altura (m): 123\n",
            "El area del rectangulo con base 12.0 (m) y altura 123.0 (m) es 1476.0 m2.\n"
          ]
        }
      ]
    },
    {
      "cell_type": "markdown",
      "source": [
        "## Ejercicio 2: Area de un triangulo\n",
        "Calcular y mostrar el area de un triangulo\n",
        "A = b*h/2\n"
      ],
      "metadata": {
        "id": "M9Urcz0hgBuG"
      }
    },
    {
      "cell_type": "code",
      "source": [
        "print(\"Programa para calcular el area de un trinagulo\")\n",
        "b = float(input(\"Ingrese la base (m): \"))\n",
        "h = float(input(\"Ingrese la base (m): \"))\n",
        "A = b * h / 2\n",
        "print(\"El area del trinagulo con base\", str(b), \"(m) y altura\", str(h), \"(m) es\", str(A),\"m2.\")"
      ],
      "metadata": {
        "id": "HAHSiqBFe1ju",
        "outputId": "47737af0-c67f-4322-ec49-67431bf5a0c3",
        "colab": {
          "base_uri": "https://localhost:8080/"
        }
      },
      "execution_count": 3,
      "outputs": [
        {
          "output_type": "stream",
          "name": "stdout",
          "text": [
            "Programa para calcular el area de un trinagulo\n",
            "Ingrese la base (m): 12\n",
            "Ingrese la base (m): 28\n",
            "El area del trinagulo con base 12.0 (m) y altura 28.0 (m) es 168.0 m2.\n"
          ]
        }
      ]
    },
    {
      "cell_type": "markdown",
      "source": [
        "## Ejercicio 3: Area de un circulo\n",
        "Calcular y mostrar el area de un triangulo\n",
        "\n",
        "A = pi * r**2\n"
      ],
      "metadata": {
        "id": "YSI0SN93hGSv"
      }
    },
    {
      "cell_type": "code",
      "source": [
        "import math\n",
        "print(\"Programa para calcular el area de un circulo\")\n",
        "r = float(input(\"Ingrese el radio (m): \"))\n",
        "\n",
        "A = math.pi * r ** 2\n",
        "print(\"El area del trinagulo con base\", str(b), \"(m) y altura\", str(h), \"(m) es\", str(A),\"m2.\")"
      ],
      "metadata": {
        "colab": {
          "base_uri": "https://localhost:8080/"
        },
        "id": "Nq_0BQVOhAGR",
        "outputId": "0739b06b-3435-4d39-b70b-e9d434a49bfe"
      },
      "execution_count": 5,
      "outputs": [
        {
          "output_type": "stream",
          "name": "stdout",
          "text": [
            "Programa para calcular el area de un circulo\n",
            "Ingrese el radio (m): 12.5\n",
            "El area del trinagulo con base 12.0 (m) y altura 28.0 (m) es 490.8738521234052 m2.\n"
          ]
        }
      ]
    },
    {
      "cell_type": "markdown",
      "source": [
        "## Ejercicio para hallar voltaje\n",
        "Calcular el voltaje instantaneo para un tiempo $t$ dado su frecuencia y amplitud\n",
        "\n",
        "theta = ang * pi / 180\n",
        "\n",
        "omega = 2 * pi * f\n",
        "\n",
        "V= amp * cos(omega* t + theta)\n",
        "\n",
        "$$\\theta_v = ang * \\pi / 180$$\n",
        "$$\\omega = 2 * \\pi f$$\n",
        "$$v(t) = v cos(\\omega t + \\theta_v)$$\n"
      ],
      "metadata": {
        "id": "EzBZRGU6i3pC"
      }
    },
    {
      "cell_type": "code",
      "source": [
        "print(\"Programa para hallar el voltaje\")\n",
        "V = float(input(\"Ingrese la amplitud (v): \"))\n",
        "f = float(input(\"Ingrese la frecuencia (Hz): \"))\n",
        "ang = float(input( \"Ingrese el angulo de fase (°): \"))\n",
        "\n",
        "t = float(input(\"Ingrese el instante de tiempo (s): \"))\n",
        "\n",
        "omega = 2 * math.pi * f\n",
        "theta = ang * math.pi /180\n",
        "v_t = V * math.cos(omega * t + theta)\n",
        "print(\"El voltaje instantaneo para los dtos ingresados es : \", str(v_t), \"V.\")"
      ],
      "metadata": {
        "id": "opivu6pDiNtJ",
        "outputId": "b6d2ac7c-bb7e-4e2c-c840-58bf5d94f316",
        "colab": {
          "base_uri": "https://localhost:8080/"
        }
      },
      "execution_count": 10,
      "outputs": [
        {
          "output_type": "stream",
          "name": "stdout",
          "text": [
            "Programa para hallar el voltaje\n",
            "Ingrese la amplitud (v): 208\n",
            "Ingrese la frecuencia (Hz): 60\n",
            "Ingrese el angulo de fase (°): 30\n",
            "Ingrese el instante de tiempo (s): 15\n",
            "El voltaje instantaneo para los dtos ingresados es :  180.13328398715777 V.\n"
          ]
        }
      ]
    },
    {
      "cell_type": "code",
      "source": [
        "15"
      ],
      "metadata": {
        "id": "d0jm-bfbmGU2"
      },
      "execution_count": null,
      "outputs": []
    }
  ]
}